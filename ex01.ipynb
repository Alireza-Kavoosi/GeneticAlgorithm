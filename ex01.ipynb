{
  "nbformat": 4,
  "nbformat_minor": 0,
  "metadata": {
    "colab": {
      "provenance": []
    },
    "kernelspec": {
      "name": "python3",
      "display_name": "Python 3"
    },
    "language_info": {
      "name": "python"
    }
  },
  "cells": [
    {
      "cell_type": "markdown",
      "source": [
        "Import the required libraries"
      ],
      "metadata": {
        "id": "7qCH0cYv1-5F"
      }
    },
    {
      "cell_type": "code",
      "execution_count": 32,
      "metadata": {
        "id": "5Y0T-dhPVFR8"
      },
      "outputs": [],
      "source": [
        "from random import uniform\n",
        "from numpy.random import randint\n",
        "import numpy as np\n",
        "import random\n",
        "import math"
      ]
    },
    {
      "cell_type": "markdown",
      "source": [
        "Define the objective function"
      ],
      "metadata": {
        "id": "zqaunPIP2ELz"
      }
    },
    {
      "cell_type": "code",
      "source": [
        "def f(x1, x2):\n",
        "    return x1 * math.sin(4 * x1 * math.pi) + x2 * math.sin(20 * x2 * math.pi) + 21.5"
      ],
      "metadata": {
        "id": "ukDkpU1Y2IfE"
      },
      "execution_count": 33,
      "outputs": []
    },
    {
      "cell_type": "markdown",
      "source": [
        "Define the population size, number of generations, mutation rate, and crossover rate"
      ],
      "metadata": {
        "id": "H44tqO-83Cbr"
      }
    },
    {
      "cell_type": "code",
      "source": [
        "pop_size = 100 # Number of individuals in the population\n",
        "num_gen = 50 # Number of generations\n",
        "mut_rate = 0.001 # Probability of mutation\n",
        "cross_rate = 0.8 # Probability of crossover"
      ],
      "metadata": {
        "id": "sD-_OYAj262l"
      },
      "execution_count": 34,
      "outputs": []
    },
    {
      "cell_type": "markdown",
      "source": [
        "Define the lower and upper bounds of the variables"
      ],
      "metadata": {
        "id": "z4vgM1LQ3IpT"
      }
    },
    {
      "cell_type": "code",
      "source": [
        "lb = [-3.0, 4.1] # Lower bounds\n",
        "ub = [12.1, 5.8] # Upper bounds"
      ],
      "metadata": {
        "id": "gfF8ksWH3LoC"
      },
      "execution_count": 35,
      "outputs": []
    },
    {
      "cell_type": "code",
      "source": [
        "# Initialize the population randomly within the bounds\n",
        "pop = np.random.uniform(lb, ub, (pop_size, 2))\n",
        "\n",
        "# Evaluate the fitness of the initial population\n",
        "fitness = np.array([f(x1, x2) for x1, x2 in pop])"
      ],
      "metadata": {
        "id": "WkaQXR484BpL"
      },
      "execution_count": 36,
      "outputs": []
    },
    {
      "cell_type": "code",
      "source": [
        "# Loop over the generations\n",
        "for gen in range(num_gen):\n",
        "\n",
        "    # Select the parents using tournament selection\n",
        "    parents = []\n",
        "    for i in range(pop_size):\n",
        "        # Randomly select k individuals from the population\n",
        "        k = 25 # Tournament size\n",
        "        candidates = random.sample(range(pop_size), k)\n",
        "        # Select the best individual among the candidates\n",
        "        best = max(candidates, key=lambda x: fitness[x])\n",
        "        # Append the best individual to the parents list\n",
        "        parents.append(pop[best])\n",
        "\n",
        "    # Convert the parents list to a numpy array\n",
        "    parents = np.array(parents)\n",
        "\n",
        "    # Apply crossover to generate offspring\n",
        "    offspring = []\n",
        "    for i in range(0, pop_size, 2):\n",
        "        # Randomly select two parents\n",
        "        p1 = random.choice(parents)\n",
        "        p2 = random.choice(parents)\n",
        "        # Generate two offspring using uniform crossover\n",
        "        if random.random() < cross_rate:\n",
        "            alpha = np.random.uniform(0, 1, 2)\n",
        "            o1 = alpha * p1 + (1 - alpha) * p2\n",
        "            o2 = alpha * p2 + (1 - alpha) * p1\n",
        "        else:\n",
        "            o1 = p1.copy()\n",
        "            o2 = p2.copy()\n",
        "        # Append the offspring to the offspring list\n",
        "        offspring.append(o1)\n",
        "        offspring.append(o2)\n",
        "\n",
        "    # Convert the offspring list to a numpy array\n",
        "    offspring = np.array(offspring)\n",
        "\n",
        "    # Apply mutation to introduce diversity\n",
        "    for i in range(pop_size):\n",
        "        # Randomly select an offspring\n",
        "        o = offspring[i]\n",
        "        # Mutate each variable with a given probability\n",
        "        for j in range(2):\n",
        "            if random.random() < mut_rate:\n",
        "                # Add a random value from a normal distribution to the variable\n",
        "                o[j] += np.random.normal(0, 0.1)\n",
        "                # Clip the variable to be within the bounds\n",
        "                o[j] = np.clip(o[j], lb[j], ub[j])\n",
        "\n",
        "    # Evaluate the fitness of the offspring\n",
        "    fitness = np.array([f(x1, x2) for x1, x2 in offspring])\n",
        "\n",
        "    # Replace the population with the offspring\n",
        "    pop = offspring.copy()\n",
        "\n",
        "    # Find the best individual in the current population\n",
        "    best_index = np.argmax(fitness)\n",
        "    best_x1, best_x2 = pop[best_index]\n",
        "    best_fitness = fitness[best_index]\n",
        "\n",
        "    # Print the progress of the algorithm\n",
        "    print(f\"Generation {gen+1}: Best fitness = {best_fitness}, Best solution = ({best_x1}, {best_x2})\")\n",
        "\n",
        "# Print the final result\n",
        "print(f\"Final result: Best fitness = {best_fitness}, Best solution = ({best_x1}, {best_x2})\")"
      ],
      "metadata": {
        "colab": {
          "base_uri": "https://localhost:8080/"
        },
        "id": "TW3Z1Oc24Diy",
        "outputId": "821fa849-d092-4b21-ab21-36d1e64c91df"
      },
      "execution_count": 37,
      "outputs": [
        {
          "output_type": "stream",
          "name": "stdout",
          "text": [
            "Generation 1: Best fitness = 36.736186718810565, Best solution = (10.134191303007528, 5.22272623980356)\n",
            "Generation 2: Best fitness = 36.888229651055774, Best solution = (10.125584435329637, 5.428946217243438)\n",
            "Generation 3: Best fitness = 37.02878870223687, Best solution = (10.127559994508818, 5.426363264404055)\n",
            "Generation 4: Best fitness = 37.029713854274384, Best solution = (10.126983432012281, 5.426384144181749)\n",
            "Generation 5: Best fitness = 37.029848133840545, Best solution = (10.127128437136042, 5.426367759840073)\n",
            "Generation 6: Best fitness = 37.030109128291265, Best solution = (10.126997925147037, 5.426369142501341)\n",
            "Generation 7: Best fitness = 37.03012213327578, Best solution = (10.127000629283453, 5.426368472794115)\n",
            "Generation 8: Best fitness = 37.03012553950276, Best solution = (10.12699810883878, 5.426368548174162)\n",
            "Generation 9: Best fitness = 37.030126384211414, Best solution = (10.126998349769575, 5.426368499608003)\n",
            "Generation 10: Best fitness = 37.030126748949726, Best solution = (10.126998429897506, 5.426368480491806)\n",
            "Generation 11: Best fitness = 37.03012714176738, Best solution = (10.126998167988871, 5.426368486935059)\n",
            "Generation 12: Best fitness = 37.03012721052412, Best solution = (10.126998168441649, 5.426368484468962)\n",
            "Generation 13: Best fitness = 37.03012721703166, Best solution = (10.126998168849495, 5.4263684842072255)\n",
            "Generation 14: Best fitness = 37.030127219029254, Best solution = (10.126998168647615, 5.426368484152269)\n",
            "Generation 15: Best fitness = 37.03012721910284, Best solution = (10.126998168576005, 5.426368484155225)\n",
            "Generation 16: Best fitness = 37.03012721917737, Best solution = (10.126998168577696, 5.426368484152459)\n",
            "Generation 17: Best fitness = 37.03012721917935, Best solution = (10.126998168576495, 5.426368484152483)\n",
            "Generation 18: Best fitness = 37.03012721917966, Best solution = (10.126998168576526, 5.426368484152468)\n",
            "Generation 19: Best fitness = 37.03012721917973, Best solution = (10.126998168576497, 5.426368484152469)\n",
            "Generation 20: Best fitness = 37.03012721917973, Best solution = (10.126998168576497, 5.426368484152469)\n",
            "Generation 21: Best fitness = 37.03012721917973, Best solution = (10.126998168576497, 5.426368484152469)\n",
            "Generation 22: Best fitness = 37.03012721917973, Best solution = (10.126998168576495, 5.426368484152469)\n",
            "Generation 23: Best fitness = 37.03012721917973, Best solution = (10.126998168576495, 5.426368484152469)\n",
            "Generation 24: Best fitness = 37.03012721917973, Best solution = (10.126998168576495, 5.426368484152469)\n",
            "Generation 25: Best fitness = 37.03012721917973, Best solution = (10.126998168576495, 5.426368484152469)\n",
            "Generation 26: Best fitness = 37.03012721917973, Best solution = (10.126998168576495, 5.426368484152469)\n",
            "Generation 27: Best fitness = 37.03012721917973, Best solution = (10.126998168576495, 5.426368484152469)\n",
            "Generation 28: Best fitness = 37.03012721917973, Best solution = (10.126998168576495, 5.426368484152469)\n",
            "Generation 29: Best fitness = 37.03012721917973, Best solution = (10.126998168576495, 5.426368484152469)\n",
            "Generation 30: Best fitness = 37.03012721917973, Best solution = (10.126998168576495, 5.426368484152469)\n",
            "Generation 31: Best fitness = 37.03012721917973, Best solution = (10.126998168576495, 5.426368484152469)\n",
            "Generation 32: Best fitness = 37.03012721917973, Best solution = (10.126998168576495, 5.426368484152469)\n",
            "Generation 33: Best fitness = 37.03012721917973, Best solution = (10.126998168576495, 5.426368484152469)\n",
            "Generation 34: Best fitness = 37.03012721917973, Best solution = (10.126998168576495, 5.426368484152469)\n",
            "Generation 35: Best fitness = 37.03012721917973, Best solution = (10.126998168576495, 5.426368484152469)\n",
            "Generation 36: Best fitness = 37.03012721917973, Best solution = (10.126998168576495, 5.426368484152469)\n",
            "Generation 37: Best fitness = 37.03012721917973, Best solution = (10.126998168576495, 5.426368484152469)\n",
            "Generation 38: Best fitness = 37.03012721917973, Best solution = (10.126998168576495, 5.426368484152469)\n",
            "Generation 39: Best fitness = 37.03012721917973, Best solution = (10.126998168576495, 5.426368484152469)\n",
            "Generation 40: Best fitness = 37.03012721917973, Best solution = (10.126998168576495, 5.426368484152469)\n",
            "Generation 41: Best fitness = 37.03012721917973, Best solution = (10.126998168576495, 5.426368484152469)\n",
            "Generation 42: Best fitness = 37.03071470539149, Best solution = (10.124553012808065, 5.426368484152469)\n",
            "Generation 43: Best fitness = 37.031633448113894, Best solution = (10.125596554189542, 5.426368484152469)\n",
            "Generation 44: Best fitness = 37.03163409714421, Best solution = (10.125629820551454, 5.426368484152469)\n",
            "Generation 45: Best fitness = 37.03163411285393, Best solution = (10.125625409769386, 5.426368484152469)\n",
            "Generation 46: Best fitness = 37.031634112854206, Best solution = (10.1256253996032, 5.426368484152469)\n",
            "Generation 47: Best fitness = 37.03216720779912, Best solution = (10.125625402955428, 5.4263495000731945)\n",
            "Generation 48: Best fitness = 37.03216720779912, Best solution = (10.125625402955428, 5.4263495000731945)\n",
            "Generation 49: Best fitness = 37.03216720779915, Best solution = (10.125625402955428, 5.426349500073194)\n",
            "Generation 50: Best fitness = 37.03216720779915, Best solution = (10.125625402955428, 5.426349500073194)\n",
            "Final result: Best fitness = 37.03216720779915, Best solution = (10.125625402955428, 5.426349500073194)\n"
          ]
        }
      ]
    }
  ]
}