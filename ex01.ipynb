{
  "nbformat": 4,
  "nbformat_minor": 0,
  "metadata": {
    "colab": {
      "provenance": [],
      "authorship_tag": "ABX9TyPJMDDL4U8/9ZqT4NOp210Y"
    },
    "kernelspec": {
      "name": "python3",
      "display_name": "Python 3"
    },
    "language_info": {
      "name": "python"
    }
  },
  "cells": [
    {
      "cell_type": "markdown",
      "source": [
        "Import the required libraries"
      ],
      "metadata": {
        "id": "7qCH0cYv1-5F"
      }
    },
    {
      "cell_type": "code",
      "execution_count": 29,
      "metadata": {
        "id": "5Y0T-dhPVFR8"
      },
      "outputs": [],
      "source": [
        "import matplotlib.pyplot as plt\n",
        "import numpy as np , random , math"
      ]
    },
    {
      "cell_type": "markdown",
      "source": [
        "Define the objective function"
      ],
      "metadata": {
        "id": "zqaunPIP2ELz"
      }
    },
    {
      "cell_type": "code",
      "source": [
        "def f(x1, x2):\n",
        "    return x1 * math.sin(4 * x1 * math.pi) + x2 * math.sin(20 * x2 * math.pi) + 21.5"
      ],
      "metadata": {
        "id": "ukDkpU1Y2IfE"
      },
      "execution_count": 30,
      "outputs": []
    },
    {
      "cell_type": "markdown",
      "source": [
        "Define the population size, number of generations, mutation rate, and crossover rate"
      ],
      "metadata": {
        "id": "H44tqO-83Cbr"
      }
    },
    {
      "cell_type": "code",
      "source": [
        "pop_size = 100 # Number of individuals in the population\n",
        "num_gen = 50 # Number of generations\n",
        "mut_rate = 0.001 # Probability of mutation\n",
        "cross_rate = 0.8 # Probability of crossover"
      ],
      "metadata": {
        "id": "sD-_OYAj262l"
      },
      "execution_count": 31,
      "outputs": []
    },
    {
      "cell_type": "markdown",
      "source": [
        "Define the lower and upper bounds of the variables"
      ],
      "metadata": {
        "id": "z4vgM1LQ3IpT"
      }
    },
    {
      "cell_type": "code",
      "source": [
        "lb = [-3.0, 4.1] # Lower bounds\n",
        "ub = [12.1, 5.8] # Upper bounds"
      ],
      "metadata": {
        "id": "gfF8ksWH3LoC"
      },
      "execution_count": 32,
      "outputs": []
    },
    {
      "cell_type": "code",
      "source": [
        "# Initialize the population randomly within the bounds\n",
        "pop = np.random.uniform(lb, ub, (pop_size, 2))\n",
        "\n",
        "# Evaluate the fitness of the initial population\n",
        "fitness = np.array([f(x1, x2) for x1, x2 in pop])"
      ],
      "metadata": {
        "id": "WkaQXR484BpL"
      },
      "execution_count": 33,
      "outputs": []
    },
    {
      "cell_type": "code",
      "source": [
        "best_fitness_list = []\n",
        "\n",
        "# Create an empty list to store the best fitness values\n",
        "for gen in range(num_gen):\n",
        "    # Select the parents using tournament selection\n",
        "  parents = []\n",
        "  for i in range(pop_size):\n",
        "      # Randomly select k individuals from the population\n",
        "      k = 25 # Tournament size\n",
        "      candidates = random.sample(range(pop_size), k)\n",
        "      # Select the best individual among the candidates\n",
        "      best = max(candidates, key=lambda x: fitness[x])\n",
        "      # Append the best individual to the parents list\n",
        "      parents.append(pop[best])\n",
        "\n",
        "  # Convert the parents list to a numpy array\n",
        "  parents = np.array(parents)\n",
        "\n",
        "  # Apply crossover to generate offspring\n",
        "  offspring = []\n",
        "  for i in range(0, pop_size, 2):\n",
        "      # Randomly select two parents\n",
        "      p1 = random.choice(parents)\n",
        "      p2 = random.choice(parents)\n",
        "      # Generate two offspring using uniform crossover\n",
        "      if random.random() < cross_rate:\n",
        "          alpha = np.random.uniform(0, 1, 2)\n",
        "          o1 = alpha * p1 + (1 - alpha) * p2\n",
        "          o2 = alpha * p2 + (1 - alpha) * p1\n",
        "      else:\n",
        "          o1 = p1.copy()\n",
        "          o2 = p2.copy()\n",
        "      # Append the offspring to the offspring list\n",
        "      offspring.append(o1)\n",
        "      offspring.append(o2)\n",
        "\n",
        "  # Convert the offspring list to a numpy array\n",
        "  offspring = np.array(offspring)\n",
        "\n",
        "  # Apply mutation to introduce diversity\n",
        "  for i in range(pop_size):\n",
        "      # Randomly select an offspring\n",
        "      o = offspring[i]\n",
        "      # Mutate each variable with a given probability\n",
        "      for j in range(2):\n",
        "          if random.random() < mut_rate:\n",
        "              # Add a random value from a normal distribution to the variable\n",
        "              o[j] += np.random.normal(0, 0.1)\n",
        "              # Clip the variable to be within the bounds\n",
        "              o[j] = np.clip(o[j], lb[j], ub[j])\n",
        "\n",
        "  # Evaluate the fitness of the offspring\n",
        "  fitness = np.array([f(x1, x2) for x1, x2 in offspring])\n",
        "\n",
        "  # Replace the population with the offspring\n",
        "  pop = offspring.copy()\n",
        "\n",
        "  # Find the best individual in the current population\n",
        "  best_index = np.argmax(fitness)\n",
        "  best_x1, best_x2 = pop[best_index]\n",
        "  best_fitness = fitness[best_index]\n",
        "\n",
        "  # Append the best fitness value to the list\n",
        "  best_fitness_list.append(best_fitness)\n",
        "\n",
        "  #print(f\"Generation {gen+1}: Best fitness = {best_fitness}, Best solution = ({best_x1}, {best_x2})\")\n",
        "\n",
        "print(f\"Final result: Best fitness = {best_fitness}, Best solution = ({best_x1}, {best_x2})\")\n",
        "\n",
        "\n",
        "# Plot the change of fitness function over generations\n",
        "plt.plot(best_fitness_list)\n",
        "plt.xlabel('Generation')\n",
        "plt.ylabel('Best Fitness')\n",
        "plt.title('Change of Fitness Function over Generations')\n",
        "plt.show()"
      ],
      "metadata": {
        "colab": {
          "base_uri": "https://localhost:8080/",
          "height": 489
        },
        "id": "TxvHTzQDju_1",
        "outputId": "375684e8-d615-4157-d9c0-1d79168841eb"
      },
      "execution_count": 34,
      "outputs": [
        {
          "output_type": "stream",
          "name": "stdout",
          "text": [
            "Final result: Best fitness = 37.5661709293675, Best solution = (11.125491964626502, 5.532427034887416)\n"
          ]
        },
        {
          "output_type": "display_data",
          "data": {
            "text/plain": [
              "<Figure size 640x480 with 1 Axes>"
            ],
            "image/png": "[encoded data removed]"
          },
          "metadata": {}
        }
      ]
    }
  ]
}